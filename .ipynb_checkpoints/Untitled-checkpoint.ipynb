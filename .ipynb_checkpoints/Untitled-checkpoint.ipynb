{
 "cells": [
  {
   "cell_type": "code",
   "execution_count": 66,
   "metadata": {},
   "outputs": [],
   "source": [
    "def update_bigger_value(curr_value, bigger_value):\n",
    "    if curr_value > bigger_value:\n",
    "        return curr_value\n",
    "    else:\n",
    "        return bigger_value\n",
    "\n",
    "    \n",
    "def bigger_subvector(vector):\n",
    "    \n",
    "    even = vector[0]\n",
    "    odd = vector[1]\n",
    "    tam_curr_subvector = 0\n",
    "    tam_bigger_subvector = 0\n",
    "    \n",
    "    started_new_subvector = True\n",
    "\n",
    "    for i in range(len(vector)):\n",
    "        print(f\"for with i = {i}\")\n",
    "\n",
    "        if i%2 == 0: # if index is even\n",
    "            if even == vector[i]:\n",
    "                tam_curr_subvector += 1\n",
    "                tam_bigger_subvector = update_bigger_value(tam_curr_subvector, tam_bigger_subvector)\n",
    "                \n",
    "                print(f\"1. sub: {tam_curr_subvector}, total: {tam_bigger_subvector}, {started_new_subvector}\")\n",
    "                \n",
    "            else:\n",
    "                even = vector[i]\n",
    "                tam_bigger_subvector = update_bigger_value(tam_curr_subvector, tam_bigger_subvector)\n",
    "                \n",
    "                if started_new_subvector:\n",
    "                    tam_curr_subvector = 1\n",
    "                else: \n",
    "                    tam_curr_subvector += 1\n",
    "                started_new_subvector = not started_new_subvector\n",
    "                \n",
    "                print(f\"2. sub: {tam_curr_subvector}, total: {tam_bigger_subvector}, {started_new_subvector}\")\n",
    "\n",
    "        else: # if index is odd\n",
    "            if odd == vector[i]:\n",
    "                tam_curr_subvector += 1\n",
    "                tam_bigger_subvector = update_bigger_value(tam_curr_subvector, tam_bigger_subvector) \n",
    "                \n",
    "                print(f\"3. sub: {tam_curr_subvector}, total: {tam_bigger_subvector}, {started_new_subvector}\")\n",
    "                \n",
    "            else:\n",
    "                odd = vector[i]\n",
    "                tam_bigger_subvector = update_bigger_value(tam_curr_subvector, tam_bigger_subvector)\n",
    "                \n",
    "                if started_new_subvector:\n",
    "                    tam_curr_subvector = 1\n",
    "                else: \n",
    "                    tam_curr_subvector += 1\n",
    "                started_new_subvector = not started_new_subvector\n",
    "                \n",
    "                print(f\"4. sub: {tam_curr_subvector}, total: {tam_bigger_subvector}, {started_new_subvector}\")\n",
    "\n",
    "        print()\n",
    "    return tam_bigger_subvector"
   ]
  },
  {
   "cell_type": "code",
   "execution_count": 71,
   "metadata": {},
   "outputs": [
    {
     "name": "stdout",
     "output_type": "stream",
     "text": [
      "for with i = 0\n",
      "1. sub: 1, total: 1, True\n",
      "\n",
      "for with i = 1\n",
      "3. sub: 2, total: 2, True\n",
      "\n",
      "for with i = 2\n",
      "1. sub: 3, total: 3, True\n",
      "\n",
      "for with i = 3\n",
      "4. sub: 1, total: 3, False\n",
      "\n"
     ]
    },
    {
     "data": {
      "text/plain": [
       "3"
      ]
     },
     "execution_count": 71,
     "metadata": {},
     "output_type": "execute_result"
    }
   ],
   "source": [
    "vector = [2, 4, 2, 1]\n",
    "bigger_subvector(vector)"
   ]
  },
  {
   "cell_type": "code",
   "execution_count": null,
   "metadata": {},
   "outputs": [],
   "source": []
  }
 ],
 "metadata": {
  "kernelspec": {
   "display_name": "Python 3",
   "language": "python",
   "name": "python3"
  },
  "language_info": {
   "codemirror_mode": {
    "name": "ipython",
    "version": 3
   },
   "file_extension": ".py",
   "mimetype": "text/x-python",
   "name": "python",
   "nbconvert_exporter": "python",
   "pygments_lexer": "ipython3",
   "version": "3.8.5"
  }
 },
 "nbformat": 4,
 "nbformat_minor": 4
}
